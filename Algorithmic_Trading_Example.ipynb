{
 "cells": [
  {
   "cell_type": "code",
   "execution_count": 1,
   "metadata": {},
   "outputs": [],
   "source": [
    "import pandas as pd\n",
    "import datetime as dt\n",
    "import time\n",
    "\n",
    "# The is where I stor the trading logic\n",
    "from crossTrader import CrossTrader_v1\n",
    "\n",
    "from starter import Start\n",
    "from tester import Tester, run_test, sample_df\n",
    "from plotingResult import Charts"
   ]
  },
  {
   "cell_type": "markdown",
   "metadata": {},
   "source": [
    "Load the data and clean it:"
   ]
  },
  {
   "cell_type": "code",
   "execution_count": 2,
   "metadata": {},
   "outputs": [],
   "source": [
    "directory = '/home/bk/Dropbox/scripts/git/Algorithmic-Trading/'\n",
    "file = 'Binance_BTCUSDT_1h.csv'\n",
    "\n",
    "# Firt row have a just a link ('https://www.CryptoDataDownload.com')\n",
    "df = pd.read_csv(directory+file, skiprows=1)\n",
    "\n",
    "# Clean the data a bit\n",
    "df.index = df.date.map(lambda x: dt.datetime.strptime(x, '%Y-%m-%d %I-%p') if 'PM' in x or 'AM' in x else dt.datetime.strptime(x, '%Y-%m-%d %H:%M:%S'))\n",
    "df = df.rename(columns=lambda x: x.capitalize())\n",
    "df = df[['Open', 'High', 'Low', 'Close']].copy()"
   ]
  },
  {
   "cell_type": "code",
   "execution_count": 3,
   "metadata": {},
   "outputs": [],
   "source": [
    "# Convert the data to 30 minuts time frame\n",
    "df_30M = sample_df(df, '30Min')\n",
    "\n",
    "# Convert the data to 5 minuts time frame\n",
    "df_5M = sample_df(df, '5Min')"
   ]
  },
  {
   "cell_type": "markdown",
   "metadata": {},
   "source": [
    "Set the parameters for our algorithum (The Start class is just a shortcut)"
   ]
  },
  {
   "cell_type": "code",
   "execution_count": 4,
   "metadata": {},
   "outputs": [
    {
     "name": "stdout",
     "output_type": "stream",
     "text": [
      "{'Algo': 'cross',\n",
      " 'Comment': '',\n",
      " 'Direction': 'all',\n",
      " 'Limit': False,\n",
      " 'MA window': '25,50',\n",
      " 'Put real Trades': False,\n",
      " 'Sleep time': 5,\n",
      " 'Stop Method': 'ma',\n",
      " 'sym': 'BTC',\n",
      " 'tf': '5m'}\n",
      "Press Enter to continue, other key to change input j\n",
      "Algo = cross bollinger\n",
      "sym = BTC \n",
      "tf = 5m \n",
      "MA window = 25,50 50\n",
      "Sleep time = 5 \n",
      "Comment =  \n",
      "Put real Trades = False \n",
      "Stop Method = ma bollinger\n",
      "Stop Method = ma \n",
      "Limit = False \n",
      "Direction = all \n"
     ]
    },
    {
     "ename": "ValueError",
     "evalue": "not enough values to unpack (expected 2, got 1)",
     "output_type": "error",
     "traceback": [
      "\u001b[0;31m---------------------------------------------------------------------------\u001b[0m",
      "\u001b[0;31mValueError\u001b[0m                                Traceback (most recent call last)",
      "\u001b[0;32m<ipython-input-4-ab786583d7fd>\u001b[0m in \u001b[0;36m<module>\u001b[0;34m()\u001b[0m\n\u001b[1;32m      8\u001b[0m \u001b[0;34m\u001b[0m\u001b[0m\n\u001b[1;32m      9\u001b[0m \u001b[0;31m# Since I type the win as str of 25,50 I need to convert it to int\u001b[0m\u001b[0;34m\u001b[0m\u001b[0;34m\u001b[0m\u001b[0m\n\u001b[0;32m---> 10\u001b[0;31m \u001b[0mfast_win\u001b[0m\u001b[0;34m,\u001b[0m \u001b[0mslow_win\u001b[0m \u001b[0;34m=\u001b[0m \u001b[0;34m[\u001b[0m\u001b[0mint\u001b[0m\u001b[0;34m(\u001b[0m\u001b[0mx\u001b[0m\u001b[0;34m)\u001b[0m \u001b[0;32mfor\u001b[0m \u001b[0mx\u001b[0m \u001b[0;32min\u001b[0m \u001b[0mwin\u001b[0m\u001b[0;34m.\u001b[0m\u001b[0msplit\u001b[0m\u001b[0;34m(\u001b[0m\u001b[0;34m','\u001b[0m\u001b[0;34m)\u001b[0m\u001b[0;34m]\u001b[0m\u001b[0;34m\u001b[0m\u001b[0m\n\u001b[0m\u001b[1;32m     11\u001b[0m \u001b[0;34m\u001b[0m\u001b[0m\n\u001b[1;32m     12\u001b[0m \u001b[0;31m# Set the trading algoritum\u001b[0m\u001b[0;34m\u001b[0m\u001b[0;34m\u001b[0m\u001b[0m\n",
      "\u001b[0;31mValueError\u001b[0m: not enough values to unpack (expected 2, got 1)"
     ]
    }
   ],
   "source": [
    "# The Start class just provide a dictionary with parameters for our trading alogrithim\n",
    "start = Start()\n",
    "start.start_data['sym'] = 'BTC'\n",
    "start.start_data['Algo'] = 'cross'\n",
    "start.start_data['Put real Trades'] = False\n",
    "trading_logic, sym, tf, win, time_sleep, comments, put_real_trades, stop_method, limit_x, direction = start.get_parameters()\n",
    "max_loss = False\n",
    "\n",
    "# Since I type the win as str of 25,50 I need to convert it to int\n",
    "fast_win, slow_win = [int(x) for x in win.split(',')] \n",
    "\n",
    "# Set the trading algoritum \n",
    "t1 = CrossTrader_v1(sym, tf, fast_win, slow_win)\n",
    "\n",
    "# Set parameters\n",
    "t1.trading_status = put_real_trades\n",
    "if max_loss:\n",
    "    t1.max_loss = max_loss\n",
    "if limit_x:\n",
    "    t1.limit_x = limit_x\n",
    "t1.stop_method = stop_method\n",
    "\n",
    "# Run ovre the function providing real live data with the get_data from the Tester class\n",
    "# Thie is a functoin that provide data I am loading \n",
    "backtest = Tester(sym, tf)\n",
    "t1.data_source.get_data = backtest.get_data\n",
    "# make shure trades result will go to the Tester class to load latter\n",
    "t1.record_trades = backtest.record_trades"
   ]
  },
  {
   "cell_type": "code",
   "execution_count": null,
   "metadata": {},
   "outputs": [],
   "source": [
    "# set the df, meaning the data we going to do our back test on.\n",
    "backtest.df = df_5M.loc['2022']"
   ]
  },
  {
   "cell_type": "code",
   "execution_count": null,
   "metadata": {},
   "outputs": [],
   "source": [
    "print ('%s  - Runing back test from %s to %s, %s data points' % (time.ctime(), backtest.df.index[0], backtest.df.index[-1], len(backtest.df)) )\n",
    "# Run and check each data point as if its resived from a server, put trades and manage stops\n",
    "backtest.reset()\n",
    "run_test(t1, len(backtest.df))\n",
    "result_df = backtest.join_result()\n",
    "trades = result_df[result_df.pnl.notna()].copy()\n",
    "print ('PnL sum: {:,.2f} |  Percentage of wining trades: {:.2%}, numebr of trades: {}'.format(trades.pnl.sum(), len(trades[trades.pnl > 0]) / len(trades), len(trades)))\n"
   ]
  },
  {
   "cell_type": "code",
   "execution_count": null,
   "metadata": {},
   "outputs": [],
   "source": [
    "print ('%s  - Runing back test from %s to %s, %s data points' % (time.ctime(), backtest.df.index[0], backtest.df.index[-1], len(backtest.df)) )\n",
    "# Run and check each data point as if its resived from a server, put trades and manage stops\n",
    "backtest.reset()\n",
    "run_test(t1, len(backtest.df))\n",
    "result_df = backtest.join_result()\n",
    "trades = result_df[result_df.pnl.notna()].copy()\n",
    "print ('PnL sum: {:,.2f} |  Percentage of wining trades: {:.2%}, numebr of trades: {}'.format(trades.pnl.sum(), len(trades[trades.pnl > 0]) / len(trades), len(trades)))\n"
   ]
  },
  {
   "cell_type": "code",
   "execution_count": null,
   "metadata": {},
   "outputs": [],
   "source": [
    "chart = Charts()"
   ]
  },
  {
   "cell_type": "code",
   "execution_count": null,
   "metadata": {},
   "outputs": [],
   "source": [
    "chart.plot_trades(result_df)"
   ]
  },
  {
   "cell_type": "code",
   "execution_count": null,
   "metadata": {},
   "outputs": [],
   "source": [
    "# reset the backtest result\n",
    "backtest.reset()\n",
    "\n",
    "# Change some of the trading parametrs\n",
    "t1.limit = 2  # meanign close positoin once the porift x2 the stop\n",
    "\n",
    "# Ran the backtest again\n",
    "run_test(t1, len(backtest.df))\n",
    "result_df = backtest.join_result()\n",
    "trades = result_df[result_df.pnl.notna()]"
   ]
  },
  {
   "cell_type": "code",
   "execution_count": null,
   "metadata": {},
   "outputs": [],
   "source": [
    "print ('PnL sum: {:,.2f} |  Percentage of wining trades: {:.2%}'.format(result_df.pnl.sum(), len(result_df[result_df.pnl > 0]) / len(result_df[result_df.pnl.notna()]) ))\n",
    "print (len(trades))"
   ]
  },
  {
   "cell_type": "code",
   "execution_count": null,
   "metadata": {},
   "outputs": [],
   "source": [
    "backtest.reset()\n",
    "\n",
    "# Change some of the trading parametrs\n",
    "t1.limit = 1  # meanign close positoin once the porift x2 the stop\n",
    "\n",
    "run_test(t1, len(backtest.df))\n",
    "result_df = backtest.join_result()\n",
    "trades = result_df[result_df.pnl.notna()]"
   ]
  },
  {
   "cell_type": "code",
   "execution_count": null,
   "metadata": {},
   "outputs": [],
   "source": [
    "print ('PnL sum: {:,.2f} |  Percentage of wining trades: {:.2%}'.format(result_df.pnl.sum(), len(result_df[result_df.pnl > 0]) / len(result_df[result_df.pnl.notna()]) ))\n",
    "print (len(trades))"
   ]
  }
 ],
 "metadata": {
  "kernelspec": {
   "display_name": "Python 3",
   "language": "python",
   "name": "python3"
  },
  "language_info": {
   "codemirror_mode": {
    "name": "ipython",
    "version": 3
   },
   "file_extension": ".py",
   "mimetype": "text/x-python",
   "name": "python",
   "nbconvert_exporter": "python",
   "pygments_lexer": "ipython3",
   "version": "3.6.5"
  }
 },
 "nbformat": 4,
 "nbformat_minor": 2
}
